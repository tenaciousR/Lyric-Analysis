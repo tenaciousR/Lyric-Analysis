{
 "cells": [
  {
   "cell_type": "code",
   "execution_count": 227,
   "metadata": {},
   "outputs": [],
   "source": [
    "import pandas as pd\n",
    "import csv"
   ]
  },
  {
   "cell_type": "code",
   "execution_count": 228,
   "metadata": {},
   "outputs": [],
   "source": [
    "df = pd.read_csv('lyrics.csv')"
   ]
  },
  {
   "cell_type": "code",
   "execution_count": 235,
   "metadata": {},
   "outputs": [],
   "source": [
    "artist = df[df['artist'] == 'blink-182']\n"
   ]
  },
  {
   "cell_type": "code",
   "execution_count": 236,
   "metadata": {
    "scrolled": true
   },
   "outputs": [
    {
     "data": {
      "text/html": [
       "<div>\n",
       "<style scoped>\n",
       "    .dataframe tbody tr th:only-of-type {\n",
       "        vertical-align: middle;\n",
       "    }\n",
       "\n",
       "    .dataframe tbody tr th {\n",
       "        vertical-align: top;\n",
       "    }\n",
       "\n",
       "    .dataframe thead th {\n",
       "        text-align: right;\n",
       "    }\n",
       "</style>\n",
       "<table border=\"1\" class=\"dataframe\">\n",
       "  <thead>\n",
       "    <tr style=\"text-align: right;\">\n",
       "      <th></th>\n",
       "      <th>index</th>\n",
       "      <th>song</th>\n",
       "      <th>year</th>\n",
       "      <th>artist</th>\n",
       "      <th>genre</th>\n",
       "      <th>lyrics</th>\n",
       "    </tr>\n",
       "  </thead>\n",
       "  <tbody>\n",
       "    <tr>\n",
       "      <td>305724</td>\n",
       "      <td>305724</td>\n",
       "      <td>the-adventure-angels-and-airwaves-song</td>\n",
       "      <td>2007</td>\n",
       "      <td>blink-182</td>\n",
       "      <td>Rock</td>\n",
       "      <td>I wanna have the same last dream again\\nThe one where I wake up and I'm alive\\nJust as the four walls close me within\\nMy eyes are open up with pure sunlight\\nI'm the first to know\\nMy dearest friends\\nEven if your hope has burned with time\\nAnything that is dead shall be re-grown\\nAnd your vicious pain, your warning sign\\nYou will be fine\\nhey yo here I am\\nAnd here we go\\nLife's waiting to begin\\nAny type of love it will be shown\\nLike every single tree reach for the sky\\nIf you're gonna to fall\\nI'll let you know\\nThat I will pick you up\\nLike you for I\\nI felt this thing\\nI can't replace\\nWhere everyone was working for this goal\\nWhere all the children left without a trace\\nOnly to come back as pure as gold\\nTo recite this so\\nhey yo here I am\\nAnd here we go\\nLife's waiting to begin\\nTonight\\nhey ohhh here I am\\nAnd here we go\\nLife's waiting to begin\\nTonight\\nhey yo here I am\\nAnd here we go\\nLife's waiting to begin\\nI cannot live\\nI can't breathe\\nUnless you do this with me\\nI cannot live\\nI can't breathe\\nUnless you do this with me\\nI cannot live\\nI can't breathe\\nUnless you do this with me\\nI cannot live\\nI can't breathe\\nUnless you do this with me\\nI cannot live\\nI can't breathe\\nUnless you do this with me\\nI cannot live\\nI can't breathe\\nUnless you do this with me</td>\n",
       "    </tr>\n",
       "    <tr>\n",
       "      <td>305725</td>\n",
       "      <td>305725</td>\n",
       "      <td>shit-piss-fuck</td>\n",
       "      <td>2007</td>\n",
       "      <td>blink-182</td>\n",
       "      <td>Rock</td>\n",
       "      <td>Shit, piss, fuck, cunt, cock-sucker,\\nMother-fucker, tits, fart, turd, and twat.\\nShit, piss, fuck, cunt, cock-sucker,\\nMother-fucker, tits, fart, turd, and twat.\\nShit, piss, fuck, cunt, cock-sucker,\\nMother-fucker, tits, fart, turd, and twat.\\nShit, piss, fuck, cunt, cock-sucker,\\nMother-fucker, tits, fart, turd, and twat.</td>\n",
       "    </tr>\n",
       "    <tr>\n",
       "      <td>305726</td>\n",
       "      <td>305726</td>\n",
       "      <td>bullet-in-my-head</td>\n",
       "      <td>2007</td>\n",
       "      <td>blink-182</td>\n",
       "      <td>Rock</td>\n",
       "      <td>You put a bullet in my head,\\nthe sorrow makes me eat bread,\\nthe bread tastes like shit,\\ndamn,i shouldn't of shot,the shot\\nwas not meant for the\\nbullet in my head.</td>\n",
       "    </tr>\n",
       "    <tr>\n",
       "      <td>305727</td>\n",
       "      <td>305727</td>\n",
       "      <td>words-of-wisdom</td>\n",
       "      <td>2007</td>\n",
       "      <td>blink-182</td>\n",
       "      <td>Rock</td>\n",
       "      <td>Tom: I'm going to come back and I'm going to start a therapeutic massage center only for for...\\nMark: I'm going to start my own nudist colony\\nTom: That would be grose, you tried that in our bus one time\\nMark: I tried to start our own nudist colony in our bus and it was pretty much just me hanging out naked, they love you Tom\\nTom: They love me so fuck everybody else\\nMark: Yea fuck all you guys out there that are cheering, yea we hate you Tom you suck dick burn in hell\\nTom: Yea fuck that, hey I say I say fuck the hating Tom thing that's what I say, are we ready Mark\\nMark: You know what it is you know what it is a lot of these people are just now hopping on the we hate Tom bandwagon, like I've been hating tom since like 1995 I'm old school hating Tom guy alright\\nTom: Oh shit, hey let's all say some dirty words, everybody say fuck, everybody say shit, everyone say dick, everyone say Mark's an ass hole\\nMark: Everyone say, everyone say we hate Mark, yea\\nTom: Hey now let's do this one, everyone say fuck fuck shit fuck, that's the kind of words you should be using at home kids\\nMark: That's right\\nTom: What do we do now\\nMark: I want everyone to call me an ass hole again\\nTom: What's up I like your hair it's very nice\\nMark: You like his hair oh cool thanks he probably appreciates that a lot\\nTom: I wanted to say I liked your but but I thought that was to foward you know\\nMark: Hey this next song is for all the ladies in the hezouse, hea he it's for all the ladies in the heoueoueouze\\nTom: Mark!\\nMark: What\\nTom: Shut the fuck up\\nMark: It's for all the ladies in the houaeiouze, weee. Hey you know what hang on I want to make this like a\\nTom: (belch) exuse me\\nMark: Exuse Tom\\nTom: Sorry\\nMark: I want to make this like a big golf tournimant everyone shut up everybody just clap like it's a golf tourniment\\nTom: That's what it sounds like when I get done having sex, 15,000 people cheering me on, I could take all of you in my bed right fucking now, but you're not invited Mark. You have got giant boobs and I doubt you're 18, do you have a note from your mom, I want to meet your mom...\\nMark: Hey put those 13 year old boobs away, if I wanted to see 13 year old boobs I'd hang out by the Junior high like my dad like my dad does\\nTom: Hey you know what I learned in fifth grade\\nMark: What's that your dad has a bent weiner\\nTom: My dad's weiner was bigger than mine then and still is\\nMark: I want everyone here to scream, fuck you Tom,we fucking hate you you're going to burn in hell and die a horrible firery death cause' we hate you stupid pieces of shit\\nTom: I heard that\\nMark: Thanks\\nTom: You want to give me your shirt, this smells like blood and feces, dinner time ok what does this say here\\nMark: It smells like blood and feces, so it's your dad's shirt\\nTom: Hey uh just like every other band we believe in a safe form of sex don't we Mark, that we do so Mark's going to tell you about how safe we are\\nMark: Let me tell you about the safest form of sex, it's when you get super drunk and you have sex with like ten people totally unprotected and you do intravenous drugs at the same time, no it's not true\\nTom: It's not true you have to carry a weapon. How many of you guys have girlfreinds and how many of your girlfriends have guy friends, I hope you're not having sex\\nMark: And more importanly how many of your girlfriends have girlfriends\\nTom: Cause' we believe in the love that exists between two vaginas\\nMark: The most special kind of love of all is the love that exists between two naked women while I watch\\nTom: We need her to put her shirt back on\\nMark: Please\\nTom: It just took away my boner, my boner just died, I had one and now it's gone\\nMark: Please I saw your boobs and my wiener ran away. Hey hey hang on everyone everyone seriously I need your attention for just a second please, I think somebody lost a contact down here so everyone look around a contact lense hey someone lost a contact lense so uh...\\nTom: I lost my virinity\\nMark: Keep an I out for it\\nTom: I lost a testacle, hey what if testacles were things you could lose on a everyday basis that would suck, you've only got three, hey I've got to go pee pee\\nMark: Do you want to go pee and I'll talk to the kids for a second\\nTom: Do you think you can talk for enough time\\nMark: No uh uh\\nTom: Why don't you gather your thoughts\\nMark: Why don't you just wet your pants and we'll call it even\\nTom: Should I just piss in my pants right here, if you guys all pitch in a dollar each I'll piss my pants right here now, that should pay me about two-hundred bucks maybe\\nMark: I'll give you three-hundred dollars to piss your pants right now\\nTom: I'll give you four-hundred bucks to eat my shit\\nMark: Sold\\nTom: Sold, apparently there's a kid that's hurt right now and I think they're helping them out right now, it looks like they're right there\\nMark: Make a hole people make a hole\\nTom: All you people over there make way for the hurt kid and bring me their w...</td>\n",
       "    </tr>\n",
       "    <tr>\n",
       "      <td>305728</td>\n",
       "      <td>305728</td>\n",
       "      <td>why</td>\n",
       "      <td>2007</td>\n",
       "      <td>blink-182</td>\n",
       "      <td>Rock</td>\n",
       "      <td>Why\\nSince you were born you watched TV\\ncartoons with violence and greed\\nin your world all that was OK\\nyour parents never taught you right\\nfrom wrong, brother taught you to fight\\nNow it's time to show them what you've got\\nGotta show them what you've got\\nAn attitude, a fancy car\\nyour buddies got your back\\nyour parents' house compared to yours\\nlooks something like a shack\\nin your thirty seven guns\\nthe bullets spanked red\\na simple stare is all it takes\\nto fill 'em up with lead but\\nWhy,\\nare you acting like you're someone else?\\nWhy,\\ncan't you stop thinking about yourself\\nLast friday night you went driving\\na stolen car with golden rings\\nit was something you just had to do\\nyour little friends the cops caught you\\nyou're sentenced for a long time\\nnow tell me what you're gonna do\\nin a world where no one cares\\nlabels i don't wanna wear\\ni had a dream that i could once walk\\nsafely in the streets\\nyou've got to take it away yeah\\nyou've got to take it away from me\\nWhy,\\nare you acting like you're someone else?\\nWhy,\\ncan't you stop thinking about yourself</td>\n",
       "    </tr>\n",
       "  </tbody>\n",
       "</table>\n",
       "</div>"
      ],
      "text/plain": [
       "         index                                    song  year     artist genre  \\\n",
       "305724  305724  the-adventure-angels-and-airwaves-song  2007  blink-182  Rock   \n",
       "305725  305725                          shit-piss-fuck  2007  blink-182  Rock   \n",
       "305726  305726                       bullet-in-my-head  2007  blink-182  Rock   \n",
       "305727  305727                         words-of-wisdom  2007  blink-182  Rock   \n",
       "305728  305728                                     why  2007  blink-182  Rock   \n",
       "\n",
       "                                                                                                                                                                                                                                                                                                                                                                                                                                                                                                                                                                                                                                                                                                                                                                                                                                                                                                                                                                                                                                                                                                                                                                                                                                                                                                                                                                                                                                                                                                                                                                                                                                                                                                                                                                                                                                                                                                                                                                                                                                                                                                                                                                                                                                                                                                                                                                                                                                                                                                                                                                                                                                                                                                                                                                                                                                                                                                                                                                                                                                                                                                                                                                                                                                                                                                                                                                                                                                                                                                                                                                                                                                                                                                                                                                                                                                                                                                                                                                                                                                                                                                                                                                                                                                                                                                                                                                                                                                                                                                                                                                                                                                                                                                                                                                                                                                                                                                                                                                                                                                                                                                                                                                                                         lyrics  \n",
       "305724                                                                                                                                                                                                                                                                                                                                                                                                                                                                                                                                                                                                                                                                                                                                                                                                                                                                                                                                                                                                                                                                                                                                                                                                                                                                                                                                                                                                                                                                                                                                                                                                                                                                                                                                                                                                                                                                                                                                                                                                                                                                                                                                                                                                                                                                                                                                                                                                                                                                                                                                                                                                                                                                                                                                                                                                                                                                                                                                                                                                                                                                                                                                                                                                                                                                                                                                                                                                                                                                                                                                                                                                                                                                                                                                                                                                                                                         I wanna have the same last dream again\\nThe one where I wake up and I'm alive\\nJust as the four walls close me within\\nMy eyes are open up with pure sunlight\\nI'm the first to know\\nMy dearest friends\\nEven if your hope has burned with time\\nAnything that is dead shall be re-grown\\nAnd your vicious pain, your warning sign\\nYou will be fine\\nhey yo here I am\\nAnd here we go\\nLife's waiting to begin\\nAny type of love it will be shown\\nLike every single tree reach for the sky\\nIf you're gonna to fall\\nI'll let you know\\nThat I will pick you up\\nLike you for I\\nI felt this thing\\nI can't replace\\nWhere everyone was working for this goal\\nWhere all the children left without a trace\\nOnly to come back as pure as gold\\nTo recite this so\\nhey yo here I am\\nAnd here we go\\nLife's waiting to begin\\nTonight\\nhey ohhh here I am\\nAnd here we go\\nLife's waiting to begin\\nTonight\\nhey yo here I am\\nAnd here we go\\nLife's waiting to begin\\nI cannot live\\nI can't breathe\\nUnless you do this with me\\nI cannot live\\nI can't breathe\\nUnless you do this with me\\nI cannot live\\nI can't breathe\\nUnless you do this with me\\nI cannot live\\nI can't breathe\\nUnless you do this with me\\nI cannot live\\nI can't breathe\\nUnless you do this with me\\nI cannot live\\nI can't breathe\\nUnless you do this with me  \n",
       "305725                                                                                                                                                                                                                                                                                                                                                                                                                                                                                                                                                                                                                                                                                                                                                                                                                                                                                                                                                                                                                                                                                                                                                                                                                                                                                                                                                                                                                                                                                                                                                                                                                                                                                                                                                                                                                                                                                                                                                                                                                                                                                                                                                                                                                                                                                                                                                                                                                                                                                                                                                                                                                                                                                                                                                                                                                                                                                                                                                                                                                                                                                                                                                                                                                                                                                                                                                                                                                                                                                                                                                                                                                                                                                                                                                                                                                                                                                                                                                                                                                                                                                                                                                                                                                                                                                                                                                                                                                                                                                                                                                                                                                                                                                                                                                                                                                                                                   Shit, piss, fuck, cunt, cock-sucker,\\nMother-fucker, tits, fart, turd, and twat.\\nShit, piss, fuck, cunt, cock-sucker,\\nMother-fucker, tits, fart, turd, and twat.\\nShit, piss, fuck, cunt, cock-sucker,\\nMother-fucker, tits, fart, turd, and twat.\\nShit, piss, fuck, cunt, cock-sucker,\\nMother-fucker, tits, fart, turd, and twat.  \n",
       "305726                                                                                                                                                                                                                                                                                                                                                                                                                                                                                                                                                                                                                                                                                                                                                                                                                                                                                                                                                                                                                                                                                                                                                                                                                                                                                                                                                                                                                                                                                                                                                                                                                                                                                                                                                                                                                                                                                                                                                                                                                                                                                                                                                                                                                                                                                                                                                                                                                                                                                                                                                                                                                                                                                                                                                                                                                                                                                                                                                                                                                                                                                                                                                                                                                                                                                                                                                                                                                                                                                                                                                                                                                                                                                                                                                                                                                                                                                                                                                                                                                                                                                                                                                                                                                                                                                                                                                                                                                                                                                                                                                                                                                                                                                                                                                                                                                                                                                                                                                                                                                                  You put a bullet in my head,\\nthe sorrow makes me eat bread,\\nthe bread tastes like shit,\\ndamn,i shouldn't of shot,the shot\\nwas not meant for the\\nbullet in my head.  \n",
       "305727  Tom: I'm going to come back and I'm going to start a therapeutic massage center only for for...\\nMark: I'm going to start my own nudist colony\\nTom: That would be grose, you tried that in our bus one time\\nMark: I tried to start our own nudist colony in our bus and it was pretty much just me hanging out naked, they love you Tom\\nTom: They love me so fuck everybody else\\nMark: Yea fuck all you guys out there that are cheering, yea we hate you Tom you suck dick burn in hell\\nTom: Yea fuck that, hey I say I say fuck the hating Tom thing that's what I say, are we ready Mark\\nMark: You know what it is you know what it is a lot of these people are just now hopping on the we hate Tom bandwagon, like I've been hating tom since like 1995 I'm old school hating Tom guy alright\\nTom: Oh shit, hey let's all say some dirty words, everybody say fuck, everybody say shit, everyone say dick, everyone say Mark's an ass hole\\nMark: Everyone say, everyone say we hate Mark, yea\\nTom: Hey now let's do this one, everyone say fuck fuck shit fuck, that's the kind of words you should be using at home kids\\nMark: That's right\\nTom: What do we do now\\nMark: I want everyone to call me an ass hole again\\nTom: What's up I like your hair it's very nice\\nMark: You like his hair oh cool thanks he probably appreciates that a lot\\nTom: I wanted to say I liked your but but I thought that was to foward you know\\nMark: Hey this next song is for all the ladies in the hezouse, hea he it's for all the ladies in the heoueoueouze\\nTom: Mark!\\nMark: What\\nTom: Shut the fuck up\\nMark: It's for all the ladies in the houaeiouze, weee. Hey you know what hang on I want to make this like a\\nTom: (belch) exuse me\\nMark: Exuse Tom\\nTom: Sorry\\nMark: I want to make this like a big golf tournimant everyone shut up everybody just clap like it's a golf tourniment\\nTom: That's what it sounds like when I get done having sex, 15,000 people cheering me on, I could take all of you in my bed right fucking now, but you're not invited Mark. You have got giant boobs and I doubt you're 18, do you have a note from your mom, I want to meet your mom...\\nMark: Hey put those 13 year old boobs away, if I wanted to see 13 year old boobs I'd hang out by the Junior high like my dad like my dad does\\nTom: Hey you know what I learned in fifth grade\\nMark: What's that your dad has a bent weiner\\nTom: My dad's weiner was bigger than mine then and still is\\nMark: I want everyone here to scream, fuck you Tom,we fucking hate you you're going to burn in hell and die a horrible firery death cause' we hate you stupid pieces of shit\\nTom: I heard that\\nMark: Thanks\\nTom: You want to give me your shirt, this smells like blood and feces, dinner time ok what does this say here\\nMark: It smells like blood and feces, so it's your dad's shirt\\nTom: Hey uh just like every other band we believe in a safe form of sex don't we Mark, that we do so Mark's going to tell you about how safe we are\\nMark: Let me tell you about the safest form of sex, it's when you get super drunk and you have sex with like ten people totally unprotected and you do intravenous drugs at the same time, no it's not true\\nTom: It's not true you have to carry a weapon. How many of you guys have girlfreinds and how many of your girlfriends have guy friends, I hope you're not having sex\\nMark: And more importanly how many of your girlfriends have girlfriends\\nTom: Cause' we believe in the love that exists between two vaginas\\nMark: The most special kind of love of all is the love that exists between two naked women while I watch\\nTom: We need her to put her shirt back on\\nMark: Please\\nTom: It just took away my boner, my boner just died, I had one and now it's gone\\nMark: Please I saw your boobs and my wiener ran away. Hey hey hang on everyone everyone seriously I need your attention for just a second please, I think somebody lost a contact down here so everyone look around a contact lense hey someone lost a contact lense so uh...\\nTom: I lost my virinity\\nMark: Keep an I out for it\\nTom: I lost a testacle, hey what if testacles were things you could lose on a everyday basis that would suck, you've only got three, hey I've got to go pee pee\\nMark: Do you want to go pee and I'll talk to the kids for a second\\nTom: Do you think you can talk for enough time\\nMark: No uh uh\\nTom: Why don't you gather your thoughts\\nMark: Why don't you just wet your pants and we'll call it even\\nTom: Should I just piss in my pants right here, if you guys all pitch in a dollar each I'll piss my pants right here now, that should pay me about two-hundred bucks maybe\\nMark: I'll give you three-hundred dollars to piss your pants right now\\nTom: I'll give you four-hundred bucks to eat my shit\\nMark: Sold\\nTom: Sold, apparently there's a kid that's hurt right now and I think they're helping them out right now, it looks like they're right there\\nMark: Make a hole people make a hole\\nTom: All you people over there make way for the hurt kid and bring me their w...  \n",
       "305728                                                                                                                                                                                                                                                                                                                                                                                                                                                                                                                                                                                                                                                                                                                                                                                                                                                                                                                                                                                                                                                                                                                                                                                                                                                                                                                                                                                                                                                                                                                                                                                                                                                                                                                                                                                                                                                                                                                                                                                                                                                                                                                                                                                                                                                                                                                                                                                                                                                                                                                                                                                                                                                                                                                                                                                                                                                                                                                                                                                                                                                                                                                                                                                                                                                                                                                                                                                                                                                                                                                                                                                                                                                                                                                                                                                                                                                                                                                                                                                                                                                                           Why\\nSince you were born you watched TV\\ncartoons with violence and greed\\nin your world all that was OK\\nyour parents never taught you right\\nfrom wrong, brother taught you to fight\\nNow it's time to show them what you've got\\nGotta show them what you've got\\nAn attitude, a fancy car\\nyour buddies got your back\\nyour parents' house compared to yours\\nlooks something like a shack\\nin your thirty seven guns\\nthe bullets spanked red\\na simple stare is all it takes\\nto fill 'em up with lead but\\nWhy,\\nare you acting like you're someone else?\\nWhy,\\ncan't you stop thinking about yourself\\nLast friday night you went driving\\na stolen car with golden rings\\nit was something you just had to do\\nyour little friends the cops caught you\\nyou're sentenced for a long time\\nnow tell me what you're gonna do\\nin a world where no one cares\\nlabels i don't wanna wear\\ni had a dream that i could once walk\\nsafely in the streets\\nyou've got to take it away yeah\\nyou've got to take it away from me\\nWhy,\\nare you acting like you're someone else?\\nWhy,\\ncan't you stop thinking about yourself  "
      ]
     },
     "execution_count": 236,
     "metadata": {},
     "output_type": "execute_result"
    }
   ],
   "source": [
    "artist.head()"
   ]
  },
  {
   "cell_type": "code",
   "execution_count": 237,
   "metadata": {},
   "outputs": [],
   "source": [
    "songs = artist.groupby('song').agg({'lyrics': lambda x: \" \".join(x), 'year': 'mean'}).reset_index()"
   ]
  },
  {
   "cell_type": "code",
   "execution_count": 238,
   "metadata": {},
   "outputs": [],
   "source": [
    "pd.options.display.max_colwidth = 5000"
   ]
  },
  {
   "cell_type": "code",
   "execution_count": 239,
   "metadata": {},
   "outputs": [
    {
     "data": {
      "text/html": [
       "<div>\n",
       "<style scoped>\n",
       "    .dataframe tbody tr th:only-of-type {\n",
       "        vertical-align: middle;\n",
       "    }\n",
       "\n",
       "    .dataframe tbody tr th {\n",
       "        vertical-align: top;\n",
       "    }\n",
       "\n",
       "    .dataframe thead th {\n",
       "        text-align: right;\n",
       "    }\n",
       "</style>\n",
       "<table border=\"1\" class=\"dataframe\">\n",
       "  <thead>\n",
       "    <tr style=\"text-align: right;\">\n",
       "      <th></th>\n",
       "      <th>song</th>\n",
       "      <th>lyrics</th>\n",
       "      <th>year</th>\n",
       "    </tr>\n",
       "  </thead>\n",
       "  <tbody>\n",
       "    <tr>\n",
       "      <td>0</td>\n",
       "      <td>13-miles</td>\n",
       "      <td>13 miles down the road lives a young boy\\nHe's got jet black hair and blue-green eyes\\nAnd he's mine\\nAnd every now and then, he and I\\nWould sit together on the porch\\nAnd I take off his pants\\nAnd I fuck him from behind\\nAnd I love him for his heart and soul\\nAnd I love his wrinkled scrotum too\\nSo if you see us passing by\\nOn some dreary rainy day\\nTake a look at the young boy\\nAnd his naked asshole</td>\n",
       "      <td>2007</td>\n",
       "    </tr>\n",
       "    <tr>\n",
       "      <td>1</td>\n",
       "      <td>21-days</td>\n",
       "      <td>My mind wanders as I'm trying not to fall in love with you\\n'Cause every time I awake I ponder on my mistakes of\\nWhat I said, it is always my esteem that I sure lose\\nPlaying those stupid games as I always end up chasing you\\nI can't help myself anymore\\nRehearsing my thoughts as I'm too scared to come to your door\\nI pushed it all aside just to stand next to you\\nBut now you won't talk to me for something that I didn't do\\nIt's not gonna work\\nAnd I'm trying not to think of you\\nI'm all confused as I think of the things that I would do\\nI'm all shook up as I get all nervous inside\\nMy emotions are something that I will always hide</td>\n",
       "      <td>2006</td>\n",
       "    </tr>\n",
       "    <tr>\n",
       "      <td>2</td>\n",
       "      <td>a-letter-to-elise</td>\n",
       "      <td>Oh Elise, it doesn't matter what you say\\nI just can't stay here every yesterday\\nLike keep on acting out the same\\nThe way we act out every way to smile\\nForget and make believe we never needed\\nAnymore than this, anymore than this\\nOh Elise it doesn't matter what you do\\nI know I'll never really get inside of you\\nTo make your eyes catch fire the way they should\\nThe way the blue could pull me in\\nIf they only would, if they only would\\nAt least I'd lose this sense of sensing\\nSomething else that hides away\\nFrom me and you they're worlds to part\\nWith aching looks and breaking hearts\\nAnd all the prayers your hands can make\\nOh, I just take as much as you can throw\\nAnd then throw it all away, oh I throw it all away\\nLike throwing faces at the sky\\nLike throwing arms 'round yesterday\\nI stood and stared wide eyed in front of you\\nAnd the face I saw looked back the way I wanted to\\nBut I just can't hold my tears away the way you do\\nElise, believe I never wanted this\\nI thought this time I'd keep all of my promises\\nI thought you were the girl I always dreamed about\\nBut I let the dream go and the promises broke\\nAnd the make believe ran out\\nSo Elise, it doesn't matter what you say\\nI just can't stay here every yesterday\\nLike keep on acting out the same\\nThe way we act out every way to smile\\nForget and make believe we never needed\\nAny more than this, any more than this\\nAnd every time I try to pick it up like falling sand\\nAs fast as I pick it up, it runs away through my clutching hands\\nBut there's nothing else I can really do\\nThere's nothing else I can really do\\nThere's nothing else I can really do at all</td>\n",
       "      <td>2007</td>\n",
       "    </tr>\n",
       "    <tr>\n",
       "      <td>3</td>\n",
       "      <td>a-new-hope</td>\n",
       "      <td>I've got her in my head\\nAt night when I go to bed\\nAnd I know it sounds lame, but\\nShe's the girl of my dreams\\nAnd of course I'd do anything for her\\nI'd search the moons of Endor\\nI'd even walk naked through\\nThe deserts of Tatooine\\nPrincess Leia, where are you tonight?\\nAnd who's laying there by your side?\\nEvery night I fall asleep with you\\nAnd I wake up alone\\nAnd even though I'm not as cool as Han\\nI still want to be your man\\nYou're exactly the kind of\\nAlderranian that I need\\nBut when you were available, I was\\nDrinking Colt 45's with Lando\\nI was hanging out in the cantina\\nOn Mos Eisley\\nPrincess Leia, where are you tonight?\\nAnd who's laying there by your side?\\nEvery night I fall asleep with you\\nAnd I wake up alone\\nPrincess Leia\\nPrincess Leia\\nPrincess Leia, where are you tonight?\\nAnd who's laying there by your side?\\nEvery night I fall asleep with you\\nAnd I wake up alone</td>\n",
       "      <td>2006</td>\n",
       "    </tr>\n",
       "    <tr>\n",
       "      <td>4</td>\n",
       "      <td>a-stranger</td>\n",
       "      <td>Stranger walking to my side\\nI cannot wait i cannot hide\\nto you its so obvious\\nthat im just the average guy\\nbut wont you see\\nno emotions\\nwont even cry</td>\n",
       "      <td>2006</td>\n",
       "    </tr>\n",
       "  </tbody>\n",
       "</table>\n",
       "</div>"
      ],
      "text/plain": [
       "                song  \\\n",
       "0           13-miles   \n",
       "1            21-days   \n",
       "2  a-letter-to-elise   \n",
       "3         a-new-hope   \n",
       "4         a-stranger   \n",
       "\n",
       "                                                                                                                                                                                                                                                                                                                                                                                                                                                                                                                                                                                                                                                                                                                                                                                                                                                                                                                                                                                                                                                                                                                                                                                                                                                                                                                                                                                                                                                                                                                                                                                                                                                                                                       lyrics  \\\n",
       "0                                                                                                                                                                                                                                                                                                                                                                                                                                                                                                                                                                                                                                                                                                                                                                                                                                                                                                                                                                                                                                                                                                                                                                                                                                                                                       13 miles down the road lives a young boy\\nHe's got jet black hair and blue-green eyes\\nAnd he's mine\\nAnd every now and then, he and I\\nWould sit together on the porch\\nAnd I take off his pants\\nAnd I fuck him from behind\\nAnd I love him for his heart and soul\\nAnd I love his wrinkled scrotum too\\nSo if you see us passing by\\nOn some dreary rainy day\\nTake a look at the young boy\\nAnd his naked asshole   \n",
       "1                                                                                                                                                                                                                                                                                                                                                                                                                                                                                                                                                                                                                                                                                                                                                                                                                                                                                                                                                                                                                                            My mind wanders as I'm trying not to fall in love with you\\n'Cause every time I awake I ponder on my mistakes of\\nWhat I said, it is always my esteem that I sure lose\\nPlaying those stupid games as I always end up chasing you\\nI can't help myself anymore\\nRehearsing my thoughts as I'm too scared to come to your door\\nI pushed it all aside just to stand next to you\\nBut now you won't talk to me for something that I didn't do\\nIt's not gonna work\\nAnd I'm trying not to think of you\\nI'm all confused as I think of the things that I would do\\nI'm all shook up as I get all nervous inside\\nMy emotions are something that I will always hide   \n",
       "2  Oh Elise, it doesn't matter what you say\\nI just can't stay here every yesterday\\nLike keep on acting out the same\\nThe way we act out every way to smile\\nForget and make believe we never needed\\nAnymore than this, anymore than this\\nOh Elise it doesn't matter what you do\\nI know I'll never really get inside of you\\nTo make your eyes catch fire the way they should\\nThe way the blue could pull me in\\nIf they only would, if they only would\\nAt least I'd lose this sense of sensing\\nSomething else that hides away\\nFrom me and you they're worlds to part\\nWith aching looks and breaking hearts\\nAnd all the prayers your hands can make\\nOh, I just take as much as you can throw\\nAnd then throw it all away, oh I throw it all away\\nLike throwing faces at the sky\\nLike throwing arms 'round yesterday\\nI stood and stared wide eyed in front of you\\nAnd the face I saw looked back the way I wanted to\\nBut I just can't hold my tears away the way you do\\nElise, believe I never wanted this\\nI thought this time I'd keep all of my promises\\nI thought you were the girl I always dreamed about\\nBut I let the dream go and the promises broke\\nAnd the make believe ran out\\nSo Elise, it doesn't matter what you say\\nI just can't stay here every yesterday\\nLike keep on acting out the same\\nThe way we act out every way to smile\\nForget and make believe we never needed\\nAny more than this, any more than this\\nAnd every time I try to pick it up like falling sand\\nAs fast as I pick it up, it runs away through my clutching hands\\nBut there's nothing else I can really do\\nThere's nothing else I can really do\\nThere's nothing else I can really do at all   \n",
       "3                                                                                                                                                                                                                                                                                                                                                                                                                                                                                                                                                                                                                                                                                                                                                                   I've got her in my head\\nAt night when I go to bed\\nAnd I know it sounds lame, but\\nShe's the girl of my dreams\\nAnd of course I'd do anything for her\\nI'd search the moons of Endor\\nI'd even walk naked through\\nThe deserts of Tatooine\\nPrincess Leia, where are you tonight?\\nAnd who's laying there by your side?\\nEvery night I fall asleep with you\\nAnd I wake up alone\\nAnd even though I'm not as cool as Han\\nI still want to be your man\\nYou're exactly the kind of\\nAlderranian that I need\\nBut when you were available, I was\\nDrinking Colt 45's with Lando\\nI was hanging out in the cantina\\nOn Mos Eisley\\nPrincess Leia, where are you tonight?\\nAnd who's laying there by your side?\\nEvery night I fall asleep with you\\nAnd I wake up alone\\nPrincess Leia\\nPrincess Leia\\nPrincess Leia, where are you tonight?\\nAnd who's laying there by your side?\\nEvery night I fall asleep with you\\nAnd I wake up alone   \n",
       "4                                                                                                                                                                                                                                                                                                                                                                                                                                                                                                                                                                                                                                                                                                                                                                                                                                                                                                                                                                                                                                                                                                                                                                                                                                                                                                                                                                                                                                                                                                                                                 Stranger walking to my side\\nI cannot wait i cannot hide\\nto you its so obvious\\nthat im just the average guy\\nbut wont you see\\nno emotions\\nwont even cry   \n",
       "\n",
       "   year  \n",
       "0  2007  \n",
       "1  2006  \n",
       "2  2007  \n",
       "3  2006  \n",
       "4  2006  "
      ]
     },
     "execution_count": 239,
     "metadata": {},
     "output_type": "execute_result"
    }
   ],
   "source": [
    "songs.head()"
   ]
  },
  {
   "cell_type": "code",
   "execution_count": 240,
   "metadata": {},
   "outputs": [
    {
     "data": {
      "text/plain": [
       "201"
      ]
     },
     "execution_count": 240,
     "metadata": {},
     "output_type": "execute_result"
    }
   ],
   "source": [
    "len(songs)"
   ]
  },
  {
   "cell_type": "code",
   "execution_count": 241,
   "metadata": {},
   "outputs": [],
   "source": [
    "from sklearn.feature_extraction.text import TfidfVectorizer"
   ]
  },
  {
   "cell_type": "code",
   "execution_count": 242,
   "metadata": {},
   "outputs": [],
   "source": [
    "import nltk\n",
    "from nltk.corpus import stopwords"
   ]
  },
  {
   "cell_type": "code",
   "execution_count": 243,
   "metadata": {},
   "outputs": [
    {
     "name": "stderr",
     "output_type": "stream",
     "text": [
      "[nltk_data] Downloading package stopwords to /Users/rommy/nltk_data...\n",
      "[nltk_data]   Package stopwords is already up-to-date!\n"
     ]
    },
    {
     "data": {
      "text/plain": [
       "True"
      ]
     },
     "execution_count": 243,
     "metadata": {},
     "output_type": "execute_result"
    }
   ],
   "source": [
    "nltk.download('stopwords')"
   ]
  },
  {
   "cell_type": "code",
   "execution_count": 244,
   "metadata": {},
   "outputs": [],
   "source": [
    "stop_words = stopwords.words('english')"
   ]
  },
  {
   "cell_type": "code",
   "execution_count": 245,
   "metadata": {},
   "outputs": [],
   "source": [
    "stop_words.extend(['back', 'said', 'come', 'things', 'get', 'oh', 'one', 'yeah', 'place', \n",
    "                   'would', 'like', 'know', 'stay', 'go', 'let', 'cause', 'fuck', 'wanna', 'time'])"
   ]
  },
  {
   "cell_type": "code",
   "execution_count": 246,
   "metadata": {},
   "outputs": [],
   "source": [
    "vectorizer = TfidfVectorizer(stop_words = stop_words, min_df = 0.1)"
   ]
  },
  {
   "cell_type": "code",
   "execution_count": 247,
   "metadata": {},
   "outputs": [],
   "source": [
    "tfidf = vectorizer.fit_transform(songs['lyrics'])"
   ]
  },
  {
   "cell_type": "code",
   "execution_count": 248,
   "metadata": {},
   "outputs": [],
   "source": [
    "from sklearn.decomposition import NMF"
   ]
  },
  {
   "cell_type": "code",
   "execution_count": 249,
   "metadata": {},
   "outputs": [],
   "source": [
    "nmf = NMF(n_components = 6)"
   ]
  },
  {
   "cell_type": "code",
   "execution_count": 250,
   "metadata": {},
   "outputs": [],
   "source": [
    "topic_values = nmf.fit_transform(tfidf)"
   ]
  },
  {
   "cell_type": "code",
   "execution_count": 251,
   "metadata": {},
   "outputs": [
    {
     "name": "stdout",
     "output_type": "stream",
     "text": [
      "Topic #1: wrong life world heart love always right day lost night\n",
      "Topic #2: home leave alone away guess please hand night much well\n",
      "Topic #3: inside head tonight always fall need wish night feel every\n",
      "Topic #4: never fucking shit hate fucked everything hold tell give day\n",
      "Topic #5: nothing friends please left away wait something think got say\n",
      "Topic #6: want see way another feel mind hand need say every\n"
     ]
    }
   ],
   "source": [
    "for topic_num, topic in enumerate(nmf.components_):\n",
    "    message = \"Topic #{}: \".format(topic_num + 1)\n",
    "    message += \" \".join([vectorizer.get_feature_names()[i] for i in topic.argsort()[:-11 :-1]])\n",
    "    print(message)"
   ]
  },
  {
   "cell_type": "code",
   "execution_count": 252,
   "metadata": {},
   "outputs": [],
   "source": [
    "topic_labels = ['relationship','distant','abandoned','anger','suicide','miss you']"
   ]
  },
  {
   "cell_type": "code",
   "execution_count": 253,
   "metadata": {},
   "outputs": [
    {
     "data": {
      "text/html": [
       "<div>\n",
       "<style scoped>\n",
       "    .dataframe tbody tr th:only-of-type {\n",
       "        vertical-align: middle;\n",
       "    }\n",
       "\n",
       "    .dataframe tbody tr th {\n",
       "        vertical-align: top;\n",
       "    }\n",
       "\n",
       "    .dataframe thead th {\n",
       "        text-align: right;\n",
       "    }\n",
       "</style>\n",
       "<table border=\"1\" class=\"dataframe\">\n",
       "  <thead>\n",
       "    <tr style=\"text-align: right;\">\n",
       "      <th></th>\n",
       "      <th>relationship</th>\n",
       "      <th>distant</th>\n",
       "      <th>abandoned</th>\n",
       "      <th>anger</th>\n",
       "      <th>suicide</th>\n",
       "      <th>miss you</th>\n",
       "    </tr>\n",
       "  </thead>\n",
       "  <tbody>\n",
       "    <tr>\n",
       "      <td>0</td>\n",
       "      <td>0.098351</td>\n",
       "      <td>0.000000</td>\n",
       "      <td>0.003224</td>\n",
       "      <td>0.019910</td>\n",
       "      <td>0.016691</td>\n",
       "      <td>0.195680</td>\n",
       "    </tr>\n",
       "    <tr>\n",
       "      <td>1</td>\n",
       "      <td>0.054583</td>\n",
       "      <td>0.000000</td>\n",
       "      <td>0.264696</td>\n",
       "      <td>0.000000</td>\n",
       "      <td>0.078871</td>\n",
       "      <td>0.032275</td>\n",
       "    </tr>\n",
       "    <tr>\n",
       "      <td>2</td>\n",
       "      <td>0.000000</td>\n",
       "      <td>0.008992</td>\n",
       "      <td>0.045355</td>\n",
       "      <td>0.054795</td>\n",
       "      <td>0.154289</td>\n",
       "      <td>0.208434</td>\n",
       "    </tr>\n",
       "    <tr>\n",
       "      <td>3</td>\n",
       "      <td>0.009869</td>\n",
       "      <td>0.089257</td>\n",
       "      <td>0.296823</td>\n",
       "      <td>0.000000</td>\n",
       "      <td>0.000000</td>\n",
       "      <td>0.097783</td>\n",
       "    </tr>\n",
       "    <tr>\n",
       "      <td>4</td>\n",
       "      <td>0.000000</td>\n",
       "      <td>0.031392</td>\n",
       "      <td>0.000000</td>\n",
       "      <td>0.000000</td>\n",
       "      <td>0.053523</td>\n",
       "      <td>0.127338</td>\n",
       "    </tr>\n",
       "    <tr>\n",
       "      <td>...</td>\n",
       "      <td>...</td>\n",
       "      <td>...</td>\n",
       "      <td>...</td>\n",
       "      <td>...</td>\n",
       "      <td>...</td>\n",
       "      <td>...</td>\n",
       "    </tr>\n",
       "    <tr>\n",
       "      <td>196</td>\n",
       "      <td>0.000000</td>\n",
       "      <td>0.000000</td>\n",
       "      <td>0.112284</td>\n",
       "      <td>0.000000</td>\n",
       "      <td>0.175985</td>\n",
       "      <td>0.095030</td>\n",
       "    </tr>\n",
       "    <tr>\n",
       "      <td>197</td>\n",
       "      <td>0.050070</td>\n",
       "      <td>0.000000</td>\n",
       "      <td>0.068114</td>\n",
       "      <td>0.025326</td>\n",
       "      <td>0.093864</td>\n",
       "      <td>0.071123</td>\n",
       "    </tr>\n",
       "    <tr>\n",
       "      <td>198</td>\n",
       "      <td>0.417285</td>\n",
       "      <td>0.000000</td>\n",
       "      <td>0.000000</td>\n",
       "      <td>0.094832</td>\n",
       "      <td>0.000000</td>\n",
       "      <td>0.000000</td>\n",
       "    </tr>\n",
       "    <tr>\n",
       "      <td>199</td>\n",
       "      <td>0.000000</td>\n",
       "      <td>0.000000</td>\n",
       "      <td>0.000000</td>\n",
       "      <td>0.443123</td>\n",
       "      <td>0.024391</td>\n",
       "      <td>0.000000</td>\n",
       "    </tr>\n",
       "    <tr>\n",
       "      <td>200</td>\n",
       "      <td>0.033959</td>\n",
       "      <td>0.027006</td>\n",
       "      <td>0.108142</td>\n",
       "      <td>0.109330</td>\n",
       "      <td>0.040677</td>\n",
       "      <td>0.260083</td>\n",
       "    </tr>\n",
       "  </tbody>\n",
       "</table>\n",
       "<p>201 rows × 6 columns</p>\n",
       "</div>"
      ],
      "text/plain": [
       "     relationship   distant  abandoned     anger   suicide  miss you\n",
       "0        0.098351  0.000000   0.003224  0.019910  0.016691  0.195680\n",
       "1        0.054583  0.000000   0.264696  0.000000  0.078871  0.032275\n",
       "2        0.000000  0.008992   0.045355  0.054795  0.154289  0.208434\n",
       "3        0.009869  0.089257   0.296823  0.000000  0.000000  0.097783\n",
       "4        0.000000  0.031392   0.000000  0.000000  0.053523  0.127338\n",
       "..            ...       ...        ...       ...       ...       ...\n",
       "196      0.000000  0.000000   0.112284  0.000000  0.175985  0.095030\n",
       "197      0.050070  0.000000   0.068114  0.025326  0.093864  0.071123\n",
       "198      0.417285  0.000000   0.000000  0.094832  0.000000  0.000000\n",
       "199      0.000000  0.000000   0.000000  0.443123  0.024391  0.000000\n",
       "200      0.033959  0.027006   0.108142  0.109330  0.040677  0.260083\n",
       "\n",
       "[201 rows x 6 columns]"
      ]
     },
     "execution_count": 253,
     "metadata": {},
     "output_type": "execute_result"
    }
   ],
   "source": [
    "df_topics = pd.DataFrame(topic_values, columns = topic_labels)\n",
    "df_topics"
   ]
  },
  {
   "cell_type": "code",
   "execution_count": 254,
   "metadata": {},
   "outputs": [],
   "source": [
    "songs = songs.join(df_topics)"
   ]
  },
  {
   "cell_type": "code",
   "execution_count": 255,
   "metadata": {
    "scrolled": true
   },
   "outputs": [
    {
     "data": {
      "text/html": [
       "<div>\n",
       "<style scoped>\n",
       "    .dataframe tbody tr th:only-of-type {\n",
       "        vertical-align: middle;\n",
       "    }\n",
       "\n",
       "    .dataframe tbody tr th {\n",
       "        vertical-align: top;\n",
       "    }\n",
       "\n",
       "    .dataframe thead th {\n",
       "        text-align: right;\n",
       "    }\n",
       "</style>\n",
       "<table border=\"1\" class=\"dataframe\">\n",
       "  <thead>\n",
       "    <tr style=\"text-align: right;\">\n",
       "      <th></th>\n",
       "      <th>song</th>\n",
       "      <th>lyrics</th>\n",
       "      <th>year</th>\n",
       "      <th>relationship</th>\n",
       "      <th>distant</th>\n",
       "      <th>abandoned</th>\n",
       "      <th>anger</th>\n",
       "      <th>suicide</th>\n",
       "      <th>miss you</th>\n",
       "    </tr>\n",
       "  </thead>\n",
       "  <tbody>\n",
       "    <tr>\n",
       "      <td>0</td>\n",
       "      <td>13-miles</td>\n",
       "      <td>13 miles down the road lives a young boy\\nHe's got jet black hair and blue-green eyes\\nAnd he's mine\\nAnd every now and then, he and I\\nWould sit together on the porch\\nAnd I take off his pants\\nAnd I fuck him from behind\\nAnd I love him for his heart and soul\\nAnd I love his wrinkled scrotum too\\nSo if you see us passing by\\nOn some dreary rainy day\\nTake a look at the young boy\\nAnd his naked asshole</td>\n",
       "      <td>2007</td>\n",
       "      <td>0.098351</td>\n",
       "      <td>0.000000</td>\n",
       "      <td>0.003224</td>\n",
       "      <td>0.019910</td>\n",
       "      <td>0.016691</td>\n",
       "      <td>0.195680</td>\n",
       "    </tr>\n",
       "    <tr>\n",
       "      <td>1</td>\n",
       "      <td>21-days</td>\n",
       "      <td>My mind wanders as I'm trying not to fall in love with you\\n'Cause every time I awake I ponder on my mistakes of\\nWhat I said, it is always my esteem that I sure lose\\nPlaying those stupid games as I always end up chasing you\\nI can't help myself anymore\\nRehearsing my thoughts as I'm too scared to come to your door\\nI pushed it all aside just to stand next to you\\nBut now you won't talk to me for something that I didn't do\\nIt's not gonna work\\nAnd I'm trying not to think of you\\nI'm all confused as I think of the things that I would do\\nI'm all shook up as I get all nervous inside\\nMy emotions are something that I will always hide</td>\n",
       "      <td>2006</td>\n",
       "      <td>0.054583</td>\n",
       "      <td>0.000000</td>\n",
       "      <td>0.264696</td>\n",
       "      <td>0.000000</td>\n",
       "      <td>0.078871</td>\n",
       "      <td>0.032275</td>\n",
       "    </tr>\n",
       "    <tr>\n",
       "      <td>2</td>\n",
       "      <td>a-letter-to-elise</td>\n",
       "      <td>Oh Elise, it doesn't matter what you say\\nI just can't stay here every yesterday\\nLike keep on acting out the same\\nThe way we act out every way to smile\\nForget and make believe we never needed\\nAnymore than this, anymore than this\\nOh Elise it doesn't matter what you do\\nI know I'll never really get inside of you\\nTo make your eyes catch fire the way they should\\nThe way the blue could pull me in\\nIf they only would, if they only would\\nAt least I'd lose this sense of sensing\\nSomething else that hides away\\nFrom me and you they're worlds to part\\nWith aching looks and breaking hearts\\nAnd all the prayers your hands can make\\nOh, I just take as much as you can throw\\nAnd then throw it all away, oh I throw it all away\\nLike throwing faces at the sky\\nLike throwing arms 'round yesterday\\nI stood and stared wide eyed in front of you\\nAnd the face I saw looked back the way I wanted to\\nBut I just can't hold my tears away the way you do\\nElise, believe I never wanted this\\nI thought this time I'd keep all of my promises\\nI thought you were the girl I always dreamed about\\nBut I let the dream go and the promises broke\\nAnd the make believe ran out\\nSo Elise, it doesn't matter what you say\\nI just can't stay here every yesterday\\nLike keep on acting out the same\\nThe way we act out every way to smile\\nForget and make believe we never needed\\nAny more than this, any more than this\\nAnd every time I try to pick it up like falling sand\\nAs fast as I pick it up, it runs away through my clutching hands\\nBut there's nothing else I can really do\\nThere's nothing else I can really do\\nThere's nothing else I can really do at all</td>\n",
       "      <td>2007</td>\n",
       "      <td>0.000000</td>\n",
       "      <td>0.008992</td>\n",
       "      <td>0.045355</td>\n",
       "      <td>0.054795</td>\n",
       "      <td>0.154289</td>\n",
       "      <td>0.208434</td>\n",
       "    </tr>\n",
       "    <tr>\n",
       "      <td>3</td>\n",
       "      <td>a-new-hope</td>\n",
       "      <td>I've got her in my head\\nAt night when I go to bed\\nAnd I know it sounds lame, but\\nShe's the girl of my dreams\\nAnd of course I'd do anything for her\\nI'd search the moons of Endor\\nI'd even walk naked through\\nThe deserts of Tatooine\\nPrincess Leia, where are you tonight?\\nAnd who's laying there by your side?\\nEvery night I fall asleep with you\\nAnd I wake up alone\\nAnd even though I'm not as cool as Han\\nI still want to be your man\\nYou're exactly the kind of\\nAlderranian that I need\\nBut when you were available, I was\\nDrinking Colt 45's with Lando\\nI was hanging out in the cantina\\nOn Mos Eisley\\nPrincess Leia, where are you tonight?\\nAnd who's laying there by your side?\\nEvery night I fall asleep with you\\nAnd I wake up alone\\nPrincess Leia\\nPrincess Leia\\nPrincess Leia, where are you tonight?\\nAnd who's laying there by your side?\\nEvery night I fall asleep with you\\nAnd I wake up alone</td>\n",
       "      <td>2006</td>\n",
       "      <td>0.009869</td>\n",
       "      <td>0.089257</td>\n",
       "      <td>0.296823</td>\n",
       "      <td>0.000000</td>\n",
       "      <td>0.000000</td>\n",
       "      <td>0.097783</td>\n",
       "    </tr>\n",
       "    <tr>\n",
       "      <td>4</td>\n",
       "      <td>a-stranger</td>\n",
       "      <td>Stranger walking to my side\\nI cannot wait i cannot hide\\nto you its so obvious\\nthat im just the average guy\\nbut wont you see\\nno emotions\\nwont even cry</td>\n",
       "      <td>2006</td>\n",
       "      <td>0.000000</td>\n",
       "      <td>0.031392</td>\n",
       "      <td>0.000000</td>\n",
       "      <td>0.000000</td>\n",
       "      <td>0.053523</td>\n",
       "      <td>0.127338</td>\n",
       "    </tr>\n",
       "  </tbody>\n",
       "</table>\n",
       "</div>"
      ],
      "text/plain": [
       "                song  \\\n",
       "0           13-miles   \n",
       "1            21-days   \n",
       "2  a-letter-to-elise   \n",
       "3         a-new-hope   \n",
       "4         a-stranger   \n",
       "\n",
       "                                                                                                                                                                                                                                                                                                                                                                                                                                                                                                                                                                                                                                                                                                                                                                                                                                                                                                                                                                                                                                                                                                                                                                                                                                                                                                                                                                                                                                                                                                                                                                                                                                                                                                       lyrics  \\\n",
       "0                                                                                                                                                                                                                                                                                                                                                                                                                                                                                                                                                                                                                                                                                                                                                                                                                                                                                                                                                                                                                                                                                                                                                                                                                                                                                       13 miles down the road lives a young boy\\nHe's got jet black hair and blue-green eyes\\nAnd he's mine\\nAnd every now and then, he and I\\nWould sit together on the porch\\nAnd I take off his pants\\nAnd I fuck him from behind\\nAnd I love him for his heart and soul\\nAnd I love his wrinkled scrotum too\\nSo if you see us passing by\\nOn some dreary rainy day\\nTake a look at the young boy\\nAnd his naked asshole   \n",
       "1                                                                                                                                                                                                                                                                                                                                                                                                                                                                                                                                                                                                                                                                                                                                                                                                                                                                                                                                                                                                                                            My mind wanders as I'm trying not to fall in love with you\\n'Cause every time I awake I ponder on my mistakes of\\nWhat I said, it is always my esteem that I sure lose\\nPlaying those stupid games as I always end up chasing you\\nI can't help myself anymore\\nRehearsing my thoughts as I'm too scared to come to your door\\nI pushed it all aside just to stand next to you\\nBut now you won't talk to me for something that I didn't do\\nIt's not gonna work\\nAnd I'm trying not to think of you\\nI'm all confused as I think of the things that I would do\\nI'm all shook up as I get all nervous inside\\nMy emotions are something that I will always hide   \n",
       "2  Oh Elise, it doesn't matter what you say\\nI just can't stay here every yesterday\\nLike keep on acting out the same\\nThe way we act out every way to smile\\nForget and make believe we never needed\\nAnymore than this, anymore than this\\nOh Elise it doesn't matter what you do\\nI know I'll never really get inside of you\\nTo make your eyes catch fire the way they should\\nThe way the blue could pull me in\\nIf they only would, if they only would\\nAt least I'd lose this sense of sensing\\nSomething else that hides away\\nFrom me and you they're worlds to part\\nWith aching looks and breaking hearts\\nAnd all the prayers your hands can make\\nOh, I just take as much as you can throw\\nAnd then throw it all away, oh I throw it all away\\nLike throwing faces at the sky\\nLike throwing arms 'round yesterday\\nI stood and stared wide eyed in front of you\\nAnd the face I saw looked back the way I wanted to\\nBut I just can't hold my tears away the way you do\\nElise, believe I never wanted this\\nI thought this time I'd keep all of my promises\\nI thought you were the girl I always dreamed about\\nBut I let the dream go and the promises broke\\nAnd the make believe ran out\\nSo Elise, it doesn't matter what you say\\nI just can't stay here every yesterday\\nLike keep on acting out the same\\nThe way we act out every way to smile\\nForget and make believe we never needed\\nAny more than this, any more than this\\nAnd every time I try to pick it up like falling sand\\nAs fast as I pick it up, it runs away through my clutching hands\\nBut there's nothing else I can really do\\nThere's nothing else I can really do\\nThere's nothing else I can really do at all   \n",
       "3                                                                                                                                                                                                                                                                                                                                                                                                                                                                                                                                                                                                                                                                                                                                                                   I've got her in my head\\nAt night when I go to bed\\nAnd I know it sounds lame, but\\nShe's the girl of my dreams\\nAnd of course I'd do anything for her\\nI'd search the moons of Endor\\nI'd even walk naked through\\nThe deserts of Tatooine\\nPrincess Leia, where are you tonight?\\nAnd who's laying there by your side?\\nEvery night I fall asleep with you\\nAnd I wake up alone\\nAnd even though I'm not as cool as Han\\nI still want to be your man\\nYou're exactly the kind of\\nAlderranian that I need\\nBut when you were available, I was\\nDrinking Colt 45's with Lando\\nI was hanging out in the cantina\\nOn Mos Eisley\\nPrincess Leia, where are you tonight?\\nAnd who's laying there by your side?\\nEvery night I fall asleep with you\\nAnd I wake up alone\\nPrincess Leia\\nPrincess Leia\\nPrincess Leia, where are you tonight?\\nAnd who's laying there by your side?\\nEvery night I fall asleep with you\\nAnd I wake up alone   \n",
       "4                                                                                                                                                                                                                                                                                                                                                                                                                                                                                                                                                                                                                                                                                                                                                                                                                                                                                                                                                                                                                                                                                                                                                                                                                                                                                                                                                                                                                                                                                                                                                 Stranger walking to my side\\nI cannot wait i cannot hide\\nto you its so obvious\\nthat im just the average guy\\nbut wont you see\\nno emotions\\nwont even cry   \n",
       "\n",
       "   year  relationship   distant  abandoned     anger   suicide  miss you  \n",
       "0  2007      0.098351  0.000000   0.003224  0.019910  0.016691  0.195680  \n",
       "1  2006      0.054583  0.000000   0.264696  0.000000  0.078871  0.032275  \n",
       "2  2007      0.000000  0.008992   0.045355  0.054795  0.154289  0.208434  \n",
       "3  2006      0.009869  0.089257   0.296823  0.000000  0.000000  0.097783  \n",
       "4  2006      0.000000  0.031392   0.000000  0.000000  0.053523  0.127338  "
      ]
     },
     "execution_count": 255,
     "metadata": {},
     "output_type": "execute_result"
    }
   ],
   "source": [
    "songs.head()"
   ]
  },
  {
   "cell_type": "code",
   "execution_count": 256,
   "metadata": {},
   "outputs": [],
   "source": [
    "songs.loc[songs['relationship'] >= 0.1, 'relationship'] = 1 #find songs in dataframe with values of love, if its greater than 0.1 set score to 1\n",
    "songs.loc[songs['distant'] >= 0.1, 'distant'] = 1\n",
    "songs.loc[songs['miss you'] >= 0.1, 'miss you'] = 1\n",
    "songs.loc[songs['anger'] >= 0.1, 'anger'] = 1\n",
    "songs.loc[songs['abandoned'] >= 0.1, 'abandoned'] = 1\n",
    "songs.loc[songs['suicide'] >= 0.1, 'suicide'] = 1"
   ]
  },
  {
   "cell_type": "code",
   "execution_count": 257,
   "metadata": {},
   "outputs": [],
   "source": [
    "songs.loc[songs['relationship'] < 0.1, 'relationship'] = 0 #find songs in dataframe with values of love, if its greater than 0.1 set score to 1\n",
    "songs.loc[songs['distant'] < 0.1, 'distant'] = 0\n",
    "songs.loc[songs['miss you'] < 0.1, 'miss you'] = 0\n",
    "songs.loc[songs['anger'] < 0.1, 'anger'] = 0\n",
    "songs.loc[songs['abandoned'] < 0.1, 'abandoned'] = 0\n",
    "songs.loc[songs['suicide'] < 0.1, 'suicide'] = 0"
   ]
  },
  {
   "cell_type": "code",
   "execution_count": 258,
   "metadata": {
    "scrolled": true
   },
   "outputs": [
    {
     "data": {
      "text/html": [
       "<div>\n",
       "<style scoped>\n",
       "    .dataframe tbody tr th:only-of-type {\n",
       "        vertical-align: middle;\n",
       "    }\n",
       "\n",
       "    .dataframe tbody tr th {\n",
       "        vertical-align: top;\n",
       "    }\n",
       "\n",
       "    .dataframe thead th {\n",
       "        text-align: right;\n",
       "    }\n",
       "</style>\n",
       "<table border=\"1\" class=\"dataframe\">\n",
       "  <thead>\n",
       "    <tr style=\"text-align: right;\">\n",
       "      <th></th>\n",
       "      <th>song</th>\n",
       "      <th>lyrics</th>\n",
       "      <th>year</th>\n",
       "      <th>relationship</th>\n",
       "      <th>distant</th>\n",
       "      <th>abandoned</th>\n",
       "      <th>anger</th>\n",
       "      <th>suicide</th>\n",
       "      <th>miss you</th>\n",
       "    </tr>\n",
       "  </thead>\n",
       "  <tbody>\n",
       "    <tr>\n",
       "      <td>0</td>\n",
       "      <td>13-miles</td>\n",
       "      <td>13 miles down the road lives a young boy\\nHe's got jet black hair and blue-green eyes\\nAnd he's mine\\nAnd every now and then, he and I\\nWould sit together on the porch\\nAnd I take off his pants\\nAnd I fuck him from behind\\nAnd I love him for his heart and soul\\nAnd I love his wrinkled scrotum too\\nSo if you see us passing by\\nOn some dreary rainy day\\nTake a look at the young boy\\nAnd his naked asshole</td>\n",
       "      <td>2007</td>\n",
       "      <td>0.0</td>\n",
       "      <td>0.0</td>\n",
       "      <td>0.0</td>\n",
       "      <td>0.0</td>\n",
       "      <td>0.0</td>\n",
       "      <td>1.0</td>\n",
       "    </tr>\n",
       "    <tr>\n",
       "      <td>1</td>\n",
       "      <td>21-days</td>\n",
       "      <td>My mind wanders as I'm trying not to fall in love with you\\n'Cause every time I awake I ponder on my mistakes of\\nWhat I said, it is always my esteem that I sure lose\\nPlaying those stupid games as I always end up chasing you\\nI can't help myself anymore\\nRehearsing my thoughts as I'm too scared to come to your door\\nI pushed it all aside just to stand next to you\\nBut now you won't talk to me for something that I didn't do\\nIt's not gonna work\\nAnd I'm trying not to think of you\\nI'm all confused as I think of the things that I would do\\nI'm all shook up as I get all nervous inside\\nMy emotions are something that I will always hide</td>\n",
       "      <td>2006</td>\n",
       "      <td>0.0</td>\n",
       "      <td>0.0</td>\n",
       "      <td>1.0</td>\n",
       "      <td>0.0</td>\n",
       "      <td>0.0</td>\n",
       "      <td>0.0</td>\n",
       "    </tr>\n",
       "    <tr>\n",
       "      <td>2</td>\n",
       "      <td>a-letter-to-elise</td>\n",
       "      <td>Oh Elise, it doesn't matter what you say\\nI just can't stay here every yesterday\\nLike keep on acting out the same\\nThe way we act out every way to smile\\nForget and make believe we never needed\\nAnymore than this, anymore than this\\nOh Elise it doesn't matter what you do\\nI know I'll never really get inside of you\\nTo make your eyes catch fire the way they should\\nThe way the blue could pull me in\\nIf they only would, if they only would\\nAt least I'd lose this sense of sensing\\nSomething else that hides away\\nFrom me and you they're worlds to part\\nWith aching looks and breaking hearts\\nAnd all the prayers your hands can make\\nOh, I just take as much as you can throw\\nAnd then throw it all away, oh I throw it all away\\nLike throwing faces at the sky\\nLike throwing arms 'round yesterday\\nI stood and stared wide eyed in front of you\\nAnd the face I saw looked back the way I wanted to\\nBut I just can't hold my tears away the way you do\\nElise, believe I never wanted this\\nI thought this time I'd keep all of my promises\\nI thought you were the girl I always dreamed about\\nBut I let the dream go and the promises broke\\nAnd the make believe ran out\\nSo Elise, it doesn't matter what you say\\nI just can't stay here every yesterday\\nLike keep on acting out the same\\nThe way we act out every way to smile\\nForget and make believe we never needed\\nAny more than this, any more than this\\nAnd every time I try to pick it up like falling sand\\nAs fast as I pick it up, it runs away through my clutching hands\\nBut there's nothing else I can really do\\nThere's nothing else I can really do\\nThere's nothing else I can really do at all</td>\n",
       "      <td>2007</td>\n",
       "      <td>0.0</td>\n",
       "      <td>0.0</td>\n",
       "      <td>0.0</td>\n",
       "      <td>0.0</td>\n",
       "      <td>1.0</td>\n",
       "      <td>1.0</td>\n",
       "    </tr>\n",
       "    <tr>\n",
       "      <td>3</td>\n",
       "      <td>a-new-hope</td>\n",
       "      <td>I've got her in my head\\nAt night when I go to bed\\nAnd I know it sounds lame, but\\nShe's the girl of my dreams\\nAnd of course I'd do anything for her\\nI'd search the moons of Endor\\nI'd even walk naked through\\nThe deserts of Tatooine\\nPrincess Leia, where are you tonight?\\nAnd who's laying there by your side?\\nEvery night I fall asleep with you\\nAnd I wake up alone\\nAnd even though I'm not as cool as Han\\nI still want to be your man\\nYou're exactly the kind of\\nAlderranian that I need\\nBut when you were available, I was\\nDrinking Colt 45's with Lando\\nI was hanging out in the cantina\\nOn Mos Eisley\\nPrincess Leia, where are you tonight?\\nAnd who's laying there by your side?\\nEvery night I fall asleep with you\\nAnd I wake up alone\\nPrincess Leia\\nPrincess Leia\\nPrincess Leia, where are you tonight?\\nAnd who's laying there by your side?\\nEvery night I fall asleep with you\\nAnd I wake up alone</td>\n",
       "      <td>2006</td>\n",
       "      <td>0.0</td>\n",
       "      <td>0.0</td>\n",
       "      <td>1.0</td>\n",
       "      <td>0.0</td>\n",
       "      <td>0.0</td>\n",
       "      <td>0.0</td>\n",
       "    </tr>\n",
       "    <tr>\n",
       "      <td>4</td>\n",
       "      <td>a-stranger</td>\n",
       "      <td>Stranger walking to my side\\nI cannot wait i cannot hide\\nto you its so obvious\\nthat im just the average guy\\nbut wont you see\\nno emotions\\nwont even cry</td>\n",
       "      <td>2006</td>\n",
       "      <td>0.0</td>\n",
       "      <td>0.0</td>\n",
       "      <td>0.0</td>\n",
       "      <td>0.0</td>\n",
       "      <td>0.0</td>\n",
       "      <td>1.0</td>\n",
       "    </tr>\n",
       "  </tbody>\n",
       "</table>\n",
       "</div>"
      ],
      "text/plain": [
       "                song  \\\n",
       "0           13-miles   \n",
       "1            21-days   \n",
       "2  a-letter-to-elise   \n",
       "3         a-new-hope   \n",
       "4         a-stranger   \n",
       "\n",
       "                                                                                                                                                                                                                                                                                                                                                                                                                                                                                                                                                                                                                                                                                                                                                                                                                                                                                                                                                                                                                                                                                                                                                                                                                                                                                                                                                                                                                                                                                                                                                                                                                                                                                                       lyrics  \\\n",
       "0                                                                                                                                                                                                                                                                                                                                                                                                                                                                                                                                                                                                                                                                                                                                                                                                                                                                                                                                                                                                                                                                                                                                                                                                                                                                                       13 miles down the road lives a young boy\\nHe's got jet black hair and blue-green eyes\\nAnd he's mine\\nAnd every now and then, he and I\\nWould sit together on the porch\\nAnd I take off his pants\\nAnd I fuck him from behind\\nAnd I love him for his heart and soul\\nAnd I love his wrinkled scrotum too\\nSo if you see us passing by\\nOn some dreary rainy day\\nTake a look at the young boy\\nAnd his naked asshole   \n",
       "1                                                                                                                                                                                                                                                                                                                                                                                                                                                                                                                                                                                                                                                                                                                                                                                                                                                                                                                                                                                                                                            My mind wanders as I'm trying not to fall in love with you\\n'Cause every time I awake I ponder on my mistakes of\\nWhat I said, it is always my esteem that I sure lose\\nPlaying those stupid games as I always end up chasing you\\nI can't help myself anymore\\nRehearsing my thoughts as I'm too scared to come to your door\\nI pushed it all aside just to stand next to you\\nBut now you won't talk to me for something that I didn't do\\nIt's not gonna work\\nAnd I'm trying not to think of you\\nI'm all confused as I think of the things that I would do\\nI'm all shook up as I get all nervous inside\\nMy emotions are something that I will always hide   \n",
       "2  Oh Elise, it doesn't matter what you say\\nI just can't stay here every yesterday\\nLike keep on acting out the same\\nThe way we act out every way to smile\\nForget and make believe we never needed\\nAnymore than this, anymore than this\\nOh Elise it doesn't matter what you do\\nI know I'll never really get inside of you\\nTo make your eyes catch fire the way they should\\nThe way the blue could pull me in\\nIf they only would, if they only would\\nAt least I'd lose this sense of sensing\\nSomething else that hides away\\nFrom me and you they're worlds to part\\nWith aching looks and breaking hearts\\nAnd all the prayers your hands can make\\nOh, I just take as much as you can throw\\nAnd then throw it all away, oh I throw it all away\\nLike throwing faces at the sky\\nLike throwing arms 'round yesterday\\nI stood and stared wide eyed in front of you\\nAnd the face I saw looked back the way I wanted to\\nBut I just can't hold my tears away the way you do\\nElise, believe I never wanted this\\nI thought this time I'd keep all of my promises\\nI thought you were the girl I always dreamed about\\nBut I let the dream go and the promises broke\\nAnd the make believe ran out\\nSo Elise, it doesn't matter what you say\\nI just can't stay here every yesterday\\nLike keep on acting out the same\\nThe way we act out every way to smile\\nForget and make believe we never needed\\nAny more than this, any more than this\\nAnd every time I try to pick it up like falling sand\\nAs fast as I pick it up, it runs away through my clutching hands\\nBut there's nothing else I can really do\\nThere's nothing else I can really do\\nThere's nothing else I can really do at all   \n",
       "3                                                                                                                                                                                                                                                                                                                                                                                                                                                                                                                                                                                                                                                                                                                                                                   I've got her in my head\\nAt night when I go to bed\\nAnd I know it sounds lame, but\\nShe's the girl of my dreams\\nAnd of course I'd do anything for her\\nI'd search the moons of Endor\\nI'd even walk naked through\\nThe deserts of Tatooine\\nPrincess Leia, where are you tonight?\\nAnd who's laying there by your side?\\nEvery night I fall asleep with you\\nAnd I wake up alone\\nAnd even though I'm not as cool as Han\\nI still want to be your man\\nYou're exactly the kind of\\nAlderranian that I need\\nBut when you were available, I was\\nDrinking Colt 45's with Lando\\nI was hanging out in the cantina\\nOn Mos Eisley\\nPrincess Leia, where are you tonight?\\nAnd who's laying there by your side?\\nEvery night I fall asleep with you\\nAnd I wake up alone\\nPrincess Leia\\nPrincess Leia\\nPrincess Leia, where are you tonight?\\nAnd who's laying there by your side?\\nEvery night I fall asleep with you\\nAnd I wake up alone   \n",
       "4                                                                                                                                                                                                                                                                                                                                                                                                                                                                                                                                                                                                                                                                                                                                                                                                                                                                                                                                                                                                                                                                                                                                                                                                                                                                                                                                                                                                                                                                                                                                                 Stranger walking to my side\\nI cannot wait i cannot hide\\nto you its so obvious\\nthat im just the average guy\\nbut wont you see\\nno emotions\\nwont even cry   \n",
       "\n",
       "   year  relationship  distant  abandoned  anger  suicide  miss you  \n",
       "0  2007           0.0      0.0        0.0    0.0      0.0       1.0  \n",
       "1  2006           0.0      0.0        1.0    0.0      0.0       0.0  \n",
       "2  2007           0.0      0.0        0.0    0.0      1.0       1.0  \n",
       "3  2006           0.0      0.0        1.0    0.0      0.0       0.0  \n",
       "4  2006           0.0      0.0        0.0    0.0      0.0       1.0  "
      ]
     },
     "execution_count": 258,
     "metadata": {},
     "output_type": "execute_result"
    }
   ],
   "source": [
    "songs.head()"
   ]
  },
  {
   "cell_type": "code",
   "execution_count": 259,
   "metadata": {},
   "outputs": [],
   "source": [
    "year_topics = songs.groupby('year').sum().reset_index()"
   ]
  },
  {
   "cell_type": "code",
   "execution_count": 260,
   "metadata": {},
   "outputs": [
    {
     "data": {
      "text/html": [
       "<div>\n",
       "<style scoped>\n",
       "    .dataframe tbody tr th:only-of-type {\n",
       "        vertical-align: middle;\n",
       "    }\n",
       "\n",
       "    .dataframe tbody tr th {\n",
       "        vertical-align: top;\n",
       "    }\n",
       "\n",
       "    .dataframe thead th {\n",
       "        text-align: right;\n",
       "    }\n",
       "</style>\n",
       "<table border=\"1\" class=\"dataframe\">\n",
       "  <thead>\n",
       "    <tr style=\"text-align: right;\">\n",
       "      <th></th>\n",
       "      <th>year</th>\n",
       "      <th>relationship</th>\n",
       "      <th>distant</th>\n",
       "      <th>abandoned</th>\n",
       "      <th>anger</th>\n",
       "      <th>suicide</th>\n",
       "      <th>miss you</th>\n",
       "    </tr>\n",
       "  </thead>\n",
       "  <tbody>\n",
       "    <tr>\n",
       "      <td>0</td>\n",
       "      <td>2000</td>\n",
       "      <td>2.0</td>\n",
       "      <td>5.0</td>\n",
       "      <td>2.0</td>\n",
       "      <td>5.0</td>\n",
       "      <td>10.0</td>\n",
       "      <td>5.0</td>\n",
       "    </tr>\n",
       "    <tr>\n",
       "      <td>1</td>\n",
       "      <td>2006</td>\n",
       "      <td>13.0</td>\n",
       "      <td>18.0</td>\n",
       "      <td>18.0</td>\n",
       "      <td>24.0</td>\n",
       "      <td>34.0</td>\n",
       "      <td>39.0</td>\n",
       "    </tr>\n",
       "    <tr>\n",
       "      <td>2</td>\n",
       "      <td>2007</td>\n",
       "      <td>7.0</td>\n",
       "      <td>11.0</td>\n",
       "      <td>9.0</td>\n",
       "      <td>7.0</td>\n",
       "      <td>10.0</td>\n",
       "      <td>13.0</td>\n",
       "    </tr>\n",
       "    <tr>\n",
       "      <td>3</td>\n",
       "      <td>2008</td>\n",
       "      <td>0.0</td>\n",
       "      <td>0.0</td>\n",
       "      <td>0.0</td>\n",
       "      <td>1.0</td>\n",
       "      <td>0.0</td>\n",
       "      <td>1.0</td>\n",
       "    </tr>\n",
       "    <tr>\n",
       "      <td>4</td>\n",
       "      <td>2011</td>\n",
       "      <td>4.0</td>\n",
       "      <td>5.0</td>\n",
       "      <td>6.0</td>\n",
       "      <td>5.0</td>\n",
       "      <td>3.0</td>\n",
       "      <td>3.0</td>\n",
       "    </tr>\n",
       "    <tr>\n",
       "      <td>5</td>\n",
       "      <td>2012</td>\n",
       "      <td>2.0</td>\n",
       "      <td>1.0</td>\n",
       "      <td>2.0</td>\n",
       "      <td>0.0</td>\n",
       "      <td>4.0</td>\n",
       "      <td>1.0</td>\n",
       "    </tr>\n",
       "    <tr>\n",
       "      <td>6</td>\n",
       "      <td>2016</td>\n",
       "      <td>6.0</td>\n",
       "      <td>3.0</td>\n",
       "      <td>5.0</td>\n",
       "      <td>3.0</td>\n",
       "      <td>8.0</td>\n",
       "      <td>7.0</td>\n",
       "    </tr>\n",
       "  </tbody>\n",
       "</table>\n",
       "</div>"
      ],
      "text/plain": [
       "   year  relationship  distant  abandoned  anger  suicide  miss you\n",
       "0  2000           2.0      5.0        2.0    5.0     10.0       5.0\n",
       "1  2006          13.0     18.0       18.0   24.0     34.0      39.0\n",
       "2  2007           7.0     11.0        9.0    7.0     10.0      13.0\n",
       "3  2008           0.0      0.0        0.0    1.0      0.0       1.0\n",
       "4  2011           4.0      5.0        6.0    5.0      3.0       3.0\n",
       "5  2012           2.0      1.0        2.0    0.0      4.0       1.0\n",
       "6  2016           6.0      3.0        5.0    3.0      8.0       7.0"
      ]
     },
     "execution_count": 260,
     "metadata": {},
     "output_type": "execute_result"
    }
   ],
   "source": [
    "year_topics"
   ]
  },
  {
   "cell_type": "code",
   "execution_count": 261,
   "metadata": {},
   "outputs": [],
   "source": [
    "import matplotlib.pyplot as plt"
   ]
  },
  {
   "cell_type": "code",
   "execution_count": 262,
   "metadata": {},
   "outputs": [
    {
     "data": {
      "text/plain": [
       "<matplotlib.legend.Legend at 0x121171450>"
      ]
     },
     "execution_count": 262,
     "metadata": {},
     "output_type": "execute_result"
    },
    {
     "data": {
      "image/png": "[encoded data removed]",
      "text/plain": [
       "<Figure size 1440x720 with 1 Axes>"
      ]
     },
     "metadata": {
      "needs_background": "light"
     },
     "output_type": "display_data"
    }
   ],
   "source": [
    "plt.figure(figsize=(20,10))\n",
    "plt.plot(year_topics['year'], year_topics['relationship'],label = 'relationship')\n",
    "plt.plot(year_topics['year'], year_topics['distant'],label = 'distant')\n",
    "plt.plot(year_topics['year'], year_topics['miss you'],label = 'anger')\n",
    "plt.plot(year_topics['year'], year_topics['anger'],label = 'anger')\n",
    "plt.plot(year_topics['year'], year_topics['abandoned'],label = 'abandoned')\n",
    "plt.plot(year_topics['year'], year_topics['suicide'],label = 'suicide')\n",
    "plt.legend()"
   ]
  },
  {
   "cell_type": "code",
   "execution_count": 138,
   "metadata": {},
   "outputs": [
    {
     "data": {
      "text/plain": [
       "201"
      ]
     },
     "execution_count": 138,
     "metadata": {},
     "output_type": "execute_result"
    }
   ],
   "source": [
    "len(songs)"
   ]
  },
  {
   "cell_type": "code",
   "execution_count": 148,
   "metadata": {},
   "outputs": [
    {
     "name": "stdout",
     "output_type": "stream",
     "text": [
      "Empty DataFrame\n",
      "Columns: [index, song, year, artist, genre, lyrics]\n",
      "Index: []\n"
     ]
    }
   ],
   "source": [
    "print(year_of_songs)"
   ]
  },
  {
   "cell_type": "code",
   "execution_count": null,
   "metadata": {},
   "outputs": [],
   "source": []
  }
 ],
 "metadata": {
  "kernelspec": {
   "display_name": "Python 3",
   "language": "python",
   "name": "python3"
  },
  "language_info": {
   "codemirror_mode": {
    "name": "ipython",
    "version": 3
   },
   "file_extension": ".py",
   "mimetype": "text/x-python",
   "name": "python",
   "nbconvert_exporter": "python",
   "pygments_lexer": "ipython3",
   "version": "3.7.4"
  }
 },
 "nbformat": 4,
 "nbformat_minor": 2
}
